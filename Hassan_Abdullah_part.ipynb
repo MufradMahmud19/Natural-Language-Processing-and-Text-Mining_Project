{
  "nbformat": 4,
  "nbformat_minor": 0,
  "metadata": {
    "colab": {
      "provenance": []
    },
    "kernelspec": {
      "name": "python3",
      "display_name": "Python 3"
    },
    "language_info": {
      "name": "python"
    }
  },
  "cells": [
    {
      "cell_type": "code",
      "execution_count": 1,
      "metadata": {
        "colab": {
          "base_uri": "https://localhost:8080/"
        },
        "id": "ONEnAhqT6KDa",
        "outputId": "b4bcd92a-a33b-4fc6-9e5a-66c21d0b3e8c"
      },
      "outputs": [
        {
          "output_type": "stream",
          "name": "stderr",
          "text": [
            "[nltk_data] Downloading package vader_lexicon to /root/nltk_data...\n"
          ]
        },
        {
          "output_type": "execute_result",
          "data": {
            "text/plain": [
              "True"
            ]
          },
          "metadata": {},
          "execution_count": 1
        }
      ],
      "source": [
        "import nltk\n",
        "from sklearn.feature_extraction.text import TfidfVectorizer\n",
        "from sklearn.cluster import KMeans\n",
        "from sklearn.preprocessing import StandardScaler\n",
        "from nltk.sentiment.vader import SentimentIntensityAnalyzer\n",
        "from scipy.sparse import hstack\n",
        "import matplotlib.pyplot as plt\n",
        "import seaborn as sns\n",
        "import pandas as pd\n",
        "\n",
        "nltk.download('vader_lexicon')\n",
        "\n"
      ]
    },
    {
      "cell_type": "code",
      "source": [
        "# 1. Preprocess Data\n",
        "df_interactions['review'] = df_interactions['review'].fillna('').astype(str)\n",
        "sia = SentimentIntensityAnalyzer()\n",
        "df_interactions['sentiment'] = df_interactions['review'].apply(lambda x: sia.polarity_scores(x)['compound'])\n",
        "df_combined = pd.merge(df_recipes, df_interactions, left_on='id', right_on='recipe_id')\n"
      ],
      "metadata": {
        "id": "su8PaxrE6xem"
      },
      "execution_count": null,
      "outputs": []
    },
    {
      "cell_type": "code",
      "source": [
        "# 2. Feature Extraction with TF-IDF\n",
        "tfidf = TfidfVectorizer()\n",
        "X_description = tfidf.fit_transform(df_combined['description'].fillna(''))\n",
        "X_sentiment_rating = StandardScaler().fit_transform(df_combined[['sentiment', 'rating']])\n",
        "X_combined = hstack([X_description, X_sentiment_rating])"
      ],
      "metadata": {
        "id": "dSy3m6WY610w"
      },
      "execution_count": null,
      "outputs": []
    },
    {
      "cell_type": "code",
      "source": [
        "# 3. Optimal Clustering with Elbow Method\n",
        "wcss = []\n",
        "for i in range(1, 11):\n",
        "    kmeans = KMeans(n_clusters=i, random_state=42)\n",
        "    kmeans.fit(X_combined)\n",
        "    wcss.append(kmeans.inertia_)\n",
        "\n",
        "plt.plot(range(1, 11), wcss, marker='o')\n",
        "plt.title(\"Elbow Method for Optimal K\")\n",
        "plt.xlabel(\"Number of clusters (k)\")\n",
        "plt.ylabel(\"WCSS\")\n",
        "plt.show()"
      ],
      "metadata": {
        "id": "Dgv9A32O65wv"
      },
      "execution_count": null,
      "outputs": []
    },
    {
      "cell_type": "code",
      "source": [
        "# 4. optimal number of clusters\n",
        "optimal_k = 7\n",
        "kmeans = KMeans(n_clusters=optimal_k, random_state=42)\n",
        "df_combined['cluster'] = kmeans.fit_predict(X_combined)\n"
      ],
      "metadata": {
        "id": "ik712lfo68-Q"
      },
      "execution_count": null,
      "outputs": []
    },
    {
      "cell_type": "code",
      "source": [
        "# 5. Visualizing Cluster Summary\n",
        "cluster_summary = df_combined.groupby('cluster').agg({\n",
        "    'tags': lambda x: x.mode()[0],\n",
        "    'ingredients': lambda x: x.mode()[0]\n",
        "}).reset_index()\n",
        "\n",
        "sentiment_rating_summary = df_combined.groupby('cluster').agg({\n",
        "    'sentiment': 'mean',\n",
        "    'rating': 'mean'\n",
        "}).reset_index()\n",
        "\n",
        "cluster_summary = pd.merge(cluster_summary, sentiment_rating_summary, on='cluster')"
      ],
      "metadata": {
        "id": "RhoFblDE7AAx"
      },
      "execution_count": null,
      "outputs": []
    },
    {
      "cell_type": "code",
      "source": [
        "# 6. Sentiment vs. Rating by Cluster\n",
        "plt.figure(figsize=(10, 6))\n",
        "sns.scatterplot(data=cluster_summary, x='sentiment', y='rating', hue='cluster', palette='viridis')\n",
        "plt.title(\"Sentiment vs Rating Across Clusters\")\n",
        "plt.xlabel(\"Average Sentiment\")\n",
        "plt.ylabel(\"Average Rating\")\n",
        "plt.legend(title=\"Cluster\")\n",
        "plt.show()"
      ],
      "metadata": {
        "id": "ZWflevCA7B8G"
      },
      "execution_count": null,
      "outputs": []
    }
  ]
}
